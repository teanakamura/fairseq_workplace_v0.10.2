{
 "cells": [
  {
   "cell_type": "code",
   "execution_count": 1,
   "metadata": {},
   "outputs": [],
   "source": [
    "import os\n",
    "from os import path\n",
    "from attrdict import AttrDict\n",
    "from pathlib import Path\n",
    "import numpy as np"
   ]
  },
  {
   "cell_type": "code",
   "execution_count": 5,
   "metadata": {},
   "outputs": [],
   "source": [
    "gen_dirs = []\n",
    "scriptdir = Path().resolve()\n",
    "home = os.environ['HOME']\n",
    "\n",
    "gen_dir = path.normpath(path.join(\n",
    "              scriptdir,\n",
    "              '../generation/jijinews/final/lc_top3_css_prob050_all_stinln/lc_transformer_base_best/with_tgt_length'\n",
    "          ))\n",
    "gen_dirs.append(gen_dir)\n",
    "\n",
    "gen_dir = path.normpath(path.join(\n",
    "              scriptdir,\n",
    "              '../generation/jijinews/final/lc_top3_css_prob050_all_stinln/lc_transformer_ord_lrpe_best'\n",
    "          ))\n",
    "gen_dirs.append(gen_dir)\n",
    "\n",
    "gen_dir = path.normpath(path.join(\n",
    "              home,\n",
    "              './fairseq/workplace/generation/jijinews/final/css_prob050_all_stinln/transformer_base_best'\n",
    "          ))\n",
    "gen_dirs.append(gen_dir)"
   ]
  },
  {
   "cell_type": "code",
   "execution_count": 6,
   "metadata": {},
   "outputs": [
    {
     "data": {
      "text/plain": [
       "['/home/acb11655gd/fairseq_v0.10.2/workplace/generation/jijinews/final/lc_top3_css_prob050_all_stinln/lc_transformer_base_best/with_tgt_length',\n",
       " '/home/acb11655gd/fairseq_v0.10.2/workplace/generation/jijinews/final/lc_top3_css_prob050_all_stinln/lc_transformer_ord_lrpe_best',\n",
       " '/home/acb11655gd/fairseq/workplace/generation/jijinews/final/css_prob050_all_stinln/transformer_base_best']"
      ]
     },
     "execution_count": 6,
     "metadata": {},
     "output_type": "execute_result"
    }
   ],
   "source": [
    "gen_dirs"
   ]
  },
  {
   "cell_type": "code",
   "execution_count": 7,
   "metadata": {},
   "outputs": [
    {
     "name": "stdout",
     "output_type": "stream",
     "text": [
      "reference.txt  reference.txt.dtk  system_output.txt  system_output.txt.dtk\n"
     ]
    }
   ],
   "source": [
    "!ls {gen_dirs[1]}"
   ]
  },
  {
   "cell_type": "code",
   "execution_count": 8,
   "metadata": {},
   "outputs": [
    {
     "name": "stdout",
     "output_type": "stream",
     "text": [
      "/home/acb11655gd/fairseq_v0.10.2/workplace/generation/jijinews/final/lc_top3_css_prob050_all_stinln/lc_transformer_base_best/with_tgt_length\n",
      "0.571\n",
      "1.4451000000000003\n",
      "/home/acb11655gd/fairseq_v0.10.2/workplace/generation/jijinews/final/lc_top3_css_prob050_all_stinln/lc_transformer_ord_lrpe_best\n",
      "8.461\n",
      "31.2484\n",
      "/home/acb11655gd/fairseq/workplace/generation/jijinews/final/css_prob050_all_stinln/transformer_base_best\n",
      "0.424\n",
      "1.4236000000000002\n"
     ]
    }
   ],
   "source": [
    "for gen_dir in gen_dirs:\n",
    "    print(gen_dir)\n",
    "    diffs = []\n",
    "    with open(f'{gen_dir}/system_output.txt.dtk') as sys_f, \\\n",
    "         open(f'{gen_dir}/reference.txt.dtk') as ref_f:\n",
    "        for i, (sys_l, ref_l) in enumerate(zip(sys_f, ref_f), 1):\n",
    "            print(i, end='\\r')\n",
    "            if i > 100: continue\n",
    "            diffs.append(abs(len(sys_l)-len(ref_l)))\n",
    "        else:\n",
    "            print(np.mean(diffs))\n",
    "            print(np.var(diffs))\n",
    "            "
   ]
  }
 ],
 "metadata": {
  "kernelspec": {
   "display_name": "Python 3",
   "language": "python",
   "name": "python3"
  },
  "language_info": {
   "codemirror_mode": {
    "name": "ipython",
    "version": 3
   },
   "file_extension": ".py",
   "mimetype": "text/x-python",
   "name": "python",
   "nbconvert_exporter": "python",
   "pygments_lexer": "ipython3",
   "version": "3.6.5"
  }
 },
 "nbformat": 4,
 "nbformat_minor": 4
}
