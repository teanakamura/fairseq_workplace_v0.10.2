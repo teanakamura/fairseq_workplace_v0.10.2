{
 "cells": [
  {
   "cell_type": "code",
   "execution_count": 21,
   "metadata": {},
   "outputs": [],
   "source": [
    "import sys\n",
    "from attrdict import AttrDict\n",
    "import os"
   ]
  },
  {
   "cell_type": "code",
   "execution_count": 13,
   "metadata": {},
   "outputs": [
    {
     "data": {
      "text/plain": [
       "['/home/acb11655gd/fairseq/workplace/utils']"
      ]
     },
     "execution_count": 13,
     "metadata": {},
     "output_type": "execute_result"
    }
   ],
   "source": [
    "pwd = !pwd\n",
    "sys.path.append(pwd)\n",
    "from calc_keyword_appearance_rate_yaml import deepupdate, read_config, enclosure, load_yaml\n",
    "sys.path.pop()"
   ]
  },
  {
   "cell_type": "code",
   "execution_count": 64,
   "metadata": {},
   "outputs": [],
   "source": [
    "def parse_keyword_line(l):\n",
    "    for k in l.strip().split(','):\n",
    "        yield(k)"
   ]
  },
  {
   "cell_type": "code",
   "execution_count": 71,
   "metadata": {},
   "outputs": [],
   "source": [
    "def main(target_path, keyword_path, threshold):\n",
    "    with open(keyword_path) as f:\n",
    "        # parse_keyword_line = enclosure('parse_keyword_line', threshold)\n",
    "        keywords = list(map(parse_keyword_line, f.readlines()))\n",
    "    with open(target_path) as f:\n",
    "        parse_sentence = enclosure('parse_sentence')\n",
    "        rate = 0\n",
    "        num_val_lines = 0\n",
    "        for i, l in enumerate(f, 1):\n",
    "            if i > 10: break\n",
    "            print(f'{i}/{len(keywords)}', end='\\r')\n",
    "            idx, sent = l.split(None, 1)\n",
    "            keyword_set = list(keywords[int(idx)])\n",
    "            print(keyword_set)\n",
    "            if not keyword_set: continue\n",
    "            rate_add = 0\n",
    "            for j, keyword in enumerate(keyword_set, 1):\n",
    "                if not keyword: break\n",
    "                # parsed_sent = parse_sentence(sent)\n",
    "                # binary = ' '.join(keyword) in ' '.join(parsed_sent)\n",
    "                # if not binary:\n",
    "                #     print(idx)\n",
    "                #     print(parsed_sent)\n",
    "                #     print(keyword)\n",
    "                #     print()\n",
    "                # rate_add += binary\n",
    "                # rate_add += ' '.join(keyword) in ' '.join(parse_sentence(sent))\n",
    "                rate_add += keyword in sent\n",
    "            else:\n",
    "                rate += rate_add / j\n",
    "                num_val_lines += 1\n",
    "        print(i, rate, num_val_lines, rate / max(num_val_lines, 1))"
   ]
  },
  {
   "cell_type": "code",
   "execution_count": 62,
   "metadata": {},
   "outputs": [],
   "source": [
    "FAIRSEQ_ROOT=f'{os.environ[\"HOME\"]}/fairseq'\n",
    "USER_DIR='/fs1/groups1/gcb50243/nakamura'\n",
    "DATA_ROOT=f'{os.environ[\"HOME\"]}/data'\n",
    "\n",
    "args = AttrDict(dict(\n",
    "    data = 'jijinews',\n",
    "    yaml = 'css_srcannt050_inline/base/test_css_srcannt_certain_number0.yml',\n",
    "    target = None,\n",
    "    keyword = None,\n",
    "    threshold = None\n",
    "))"
   ]
  },
  {
   "cell_type": "code",
   "execution_count": 72,
   "metadata": {},
   "outputs": [
    {
     "name": "stdout",
     "output_type": "stream",
     "text": [
      "['jijinews', 'css_srcannt050_inline', 'base', 'test_css_srcannt_certain_number0.yml']\n",
      "LOAD: /home/acb11655gd/fairseq/workplace/script/yaml_configs/default.yml\n",
      "LOAD: /home/acb11655gd/fairseq/workplace/script/yaml_configs/jijinews/default.yml\n",
      "LOAD: /home/acb11655gd/fairseq/workplace/script/yaml_configs/jijinews/css_srcannt050_inline/default.yml\n",
      "LOAD: /home/acb11655gd/fairseq/workplace/script/yaml_configs/jijinews/css_srcannt050_inline/base/default.yml\n",
      "LOAD: /home/acb11655gd/fairseq/workplace/script/yaml_configs/jijinews/css_srcannt050_inline/base/test_css_srcannt_certain_number0.yml\n",
      "/home/acb11655gd/fairseq/workplace/generation/jijinews/css_srcannt050_inline_unigram16000/transformer_best/src_annt_with_css_certain_number0/system_output.txt.dtk\n",
      "/home/acb11655gd/data/jijinews/mecab/juman/src_annt_with_css_certain_number0/test.key\n",
      "['']224\n",
      "['']224\n",
      "['']224\n",
      "['']224\n",
      "['']224\n",
      "['']224\n",
      "['']224\n",
      "['']224\n",
      "['']224\n",
      "['']0224\n",
      "11 0 0 0.0\n"
     ]
    }
   ],
   "source": [
    "if __name__ == '__main__':\n",
    "    conf = load_yaml(args)\n",
    "    gen_path = f'{FAIRSEQ_ROOT}/workplace/generation/{conf.data.name}/{conf.data.type}/{conf.model.name}{conf.checkpoint}'\n",
    "    if conf.get('gen') and conf.gen.get('data'):\n",
    "        gen_path = os.path.join(gen_path, conf.gen.data)\n",
    "    args.target = args.target or f'{gen_path}/system_output.{conf.rouge.suf}'\n",
    "    args.keyword = args.keyword or f'{DATA_ROOT}/{conf.data.name}/{conf.key}'\n",
    "    print(args.target)\n",
    "    print(args.keyword)\n",
    "    main(args.target, args.keyword, args.threshold)"
   ]
  },
  {
   "cell_type": "code",
   "execution_count": null,
   "metadata": {},
   "outputs": [],
   "source": []
  }
 ],
 "metadata": {
  "kernelspec": {
   "display_name": "Python 3",
   "language": "python",
   "name": "python3"
  },
  "language_info": {
   "codemirror_mode": {
    "name": "ipython",
    "version": 3
   },
   "file_extension": ".py",
   "mimetype": "text/x-python",
   "name": "python",
   "nbconvert_exporter": "python",
   "pygments_lexer": "ipython3",
   "version": "3.6.5"
  }
 },
 "nbformat": 4,
 "nbformat_minor": 4
}
