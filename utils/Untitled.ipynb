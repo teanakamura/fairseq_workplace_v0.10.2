{
 "cells": [
  {
   "cell_type": "code",
   "execution_count": 11,
   "metadata": {},
   "outputs": [
    {
     "name": "stdout",
     "output_type": "stream",
     "text": [
      "../generation/base-subword/transformer_ce_best/rougeout.txt\n",
      "../generation/tfidf_annt-subword/transformer_best/rougeout.txt\n",
      "11485 ../generation/tfidf_annt-subword/transformer_best/rougeout.txt\n"
     ]
    }
   ],
   "source": [
    "%%bash\n",
    "ls ../generation/base-subword/transformer_ce_best/rougeout.txt\n",
    "ls ../generation/tfidf_annt-subword/transformer_best/rougeout.txt\n",
    "wc -l ../generation/tfidf_annt-subword/transformer_best/rougeout.txt"
   ]
  },
  {
   "cell_type": "code",
   "execution_count": 10,
   "metadata": {},
   "outputs": [],
   "source": [
    "model1 = \"../generation/base-subword/transformer_ce_best/rougeout.txt\"\n",
    "model2 = \"../generation/tfidf_annt-subword/transformer_best/rougeout.txt\""
   ]
  },
  {
   "cell_type": "code",
   "execution_count": 18,
   "metadata": {},
   "outputs": [],
   "source": [
    "from collections import defaultdict as dd"
   ]
  },
  {
   "cell_type": "code",
   "execution_count": 30,
   "metadata": {},
   "outputs": [],
   "source": [
    "r1dic = dd(dict)\n",
    "with open(model1) as m:\n",
    "    for l in m:\n",
    "        idx, r1, r2, rl = l.split(', ')\n",
    "        r1dic[int(idx)]['model1'] = float(r1)\n",
    "with open(model2) as m:\n",
    "    for l in m:\n",
    "        idx, r1, r2, rl = l.split(', ')\n",
    "        r1dic[int(idx)]['model2'] = float(r1)"
   ]
  },
  {
   "cell_type": "code",
   "execution_count": 33,
   "metadata": {},
   "outputs": [],
   "source": [
    "for k, v in r1dic.items():\n",
    "    r1dic[k]['diff'] = v['model2'] - v['model1']\n",
    "sortedr1diff = sorted(r1dic.items(), key=lambda x:x[1]['diff'])"
   ]
  },
  {
   "cell_type": "code",
   "execution_count": 39,
   "metadata": {
    "scrolled": true
   },
   "outputs": [
    {
     "data": {
      "text/plain": [
       "[(8284,\n",
       "  {'model1': 0.9180327868852459,\n",
       "   'model2': 0.4583333333333333,\n",
       "   'diff': -0.4596994535519126}),\n",
       " (10040,\n",
       "  {'model1': 0.9268292682926829,\n",
       "   'model2': 0.5625,\n",
       "   'diff': -0.36432926829268286}),\n",
       " (7897,\n",
       "  {'model1': 0.6363636363636364,\n",
       "   'model2': 0.30434782608695654,\n",
       "   'diff': -0.3320158102766798}),\n",
       " (242,\n",
       "  {'model1': 0.46511627906976744,\n",
       "   'model2': 0.13793103448275862,\n",
       "   'diff': -0.3271852445870088}),\n",
       " (6278,\n",
       "  {'model1': 0.7608695652173914,\n",
       "   'model2': 0.43636363636363634,\n",
       "   'diff': -0.324505928853755}),\n",
       " (10958,\n",
       "  {'model1': 0.7924528301886793,\n",
       "   'model2': 0.4727272727272727,\n",
       "   'diff': -0.3197255574614066}),\n",
       " (6773,\n",
       "  {'model1': 0.7894736842105262,\n",
       "   'model2': 0.4848484848484849,\n",
       "   'diff': -0.3046251993620413}),\n",
       " (8168,\n",
       "  {'model1': 0.6285714285714286,\n",
       "   'model2': 0.33333333333333337,\n",
       "   'diff': -0.2952380952380952}),\n",
       " (9949,\n",
       "  {'model1': 0.5411764705882353,\n",
       "   'model2': 0.2528735632183908,\n",
       "   'diff': -0.2883029073698445}),\n",
       " (7962,\n",
       "  {'model1': 0.5974025974025974,\n",
       "   'model2': 0.32098765432098764,\n",
       "   'diff': -0.27641494308160974})]"
      ]
     },
     "execution_count": 39,
     "metadata": {},
     "output_type": "execute_result"
    }
   ],
   "source": [
    "sortedr1diff[:10]"
   ]
  },
  {
   "cell_type": "code",
   "execution_count": 46,
   "metadata": {},
   "outputs": [],
   "source": [
    "model1s = \"../generation/base-subword/transformer_ce_best/system_output.txt\"\n",
    "model1r = \"../generation/base-subword/transformer_ce_best/reference.txt\"\n",
    "model2s = \"../generation/tfidf_annt-subword/transformer_best/system_output.txt\"\n",
    "model2r = \"../generation/tfidf_annt-subword/transformer_best/reference.txt\""
   ]
  },
  {
   "cell_type": "code",
   "execution_count": 52,
   "metadata": {},
   "outputs": [
    {
     "name": "stdout",
     "output_type": "stream",
     "text": [
      "l2s 9156 <t> the 54-year-old actress spoke in the latest issue of marie claire 's career-oriented supplement work , which is featured in the may issue of the magazine . </t>\n",
      "\n",
      "l2r 9156 <t> the 54-year-old actress covers marie claire 's career-oriented supplement , which is featured in the may issue of the magazine . </t>\n",
      "\n",
      "l1s 9156 <t> actress julia louis-dreyfus has revealed that the ultra-short hairstyle she models in the newest season of hbo 's political comedy . </t>\n",
      "\n",
      "l1r 9156 <t> the 54-year-old actress covers marie claire 's career-oriented supplement , which is featured in the may issue of the magazine . </t>\n",
      "\n",
      "l1s 11486 <t> the testing kit , on sale online , uses a small amount of blood from a finger-prick sample to detect the presence of hiv antibodies . </t> <t> it also uses a small amount of blood from a finger-prick sample to detect the presence of hiv . </t> <t> founder brigette bard said it is a significant step towards normalising hiv testing . </t>\n",
      "\n",
      "l1r 11486 <t> the 99.7 per cent accurate biosure hiv self test enables people to test themselves when and where they like . </t> <t> an estimated 26,000 people in the uk have hiv but are unaware of it . </t> <t> treatments available mean hiv is now a manageable disease . </t>\n",
      "\n",
      "l2s 11486 <t> the 99.7 per cent accurate biotest enables people to test themselves . </t> <t> an estimated 26,000 people in the uk have hiv but are unaware of it . </t> <t> available in 15 minutes treatments mean hiv is now a manageable disease . </t>\n",
      "\n",
      "l2r 11486 <t> the 99.7 per cent accurate biosure hiv self test enables people to test themselves when and where they like . </t> <t> an estimated 26,000 people in the uk have hiv but are unaware of it . </t> <t> treatments available mean hiv is now a manageable disease . </t>\n",
      "\n",
      "l2s 5108 <t> archbishop of canterbury said the dead were ` martyrs ' </t> <t> made as pope francis called for governments to intervene in syria and iraq . </t>\n",
      "\n",
      "l2r 5108 <t> archbishop of canterbury also said the dead were ` martyrs ' in speech . </t> <t> pope francis called for governments to intervene in syria and iraq . </t>\n",
      "\n",
      "l1s 5108 <t> archbishop of canterbury called on christians to use non-violent means of resistance when faced with persecution . </t> <t> he said the killing of christians over the past year had been a ` wicked ' development ` to witness to this is a martyr ' </t> <t> dr justin welby said the death of christians was a ` wicked ' development . </t>\n",
      "\n",
      "l1r 5108 <t> archbishop of canterbury also said the dead were ` martyrs ' in speech . </t> <t> pope francis called for governments to intervene in syria and iraq . </t>\n",
      "\n",
      "l1s 360 <t> the apple tablet had all the touches . </t> <t> proceeds will go to a school in montevideo . </t>\n",
      "\n",
      "l1r 360 <t> the ipad was engraved with `` his holiness francisco '' and `` vatican internet service , march 2013 '' </t> <t> a harley-davidson the pope donated to charity sold for $ 284,000 last year . </t>\n",
      "\n",
      "l2s 360 <t> `` his holiness francisco '' and `` vatican internet service march 2013 '' were engraved on . </t> <t> pope francis donated a harley davidson to a charity bike . </t>\n",
      "\n",
      "l2r 360 <t> the ipad was engraved with `` his holiness francisco '' and `` vatican internet service , march 2013 '' </t> <t> a harley-davidson the pope donated to charity sold for $ 284,000 last year . </t>\n",
      "\n",
      "l2s 532 <t> the overturned convertible was smoldering when police pulled up to it on a new jersey roadway . </t> <t> the driver was unconscious when the car might burst into full flame . </t>\n",
      "\n",
      "l2r 532 <t> the overturned car was smoldering on a new jersey roadway when police arrived . </t> <t> it burst into flames shortly after they pulled out the unconscious driver . </t>\n",
      "\n",
      "l1s 532 <t> the 2006 toyota solara convertible flipped over and shouted , `` can you hear me ? '' </t> <t> it took two minutes to cut off the seat belt , then dragged the woman 's limp body away from the crash . </t> <t> ricky ferriola cut the seat belt from her , then dragged the woman 's limp body away from the crash . </t>\n",
      "\n",
      "l1r 532 <t> the overturned car was smoldering on a new jersey roadway when police arrived . </t> <t> it burst into flames shortly after they pulled out the unconscious driver . </t>\n",
      "\n",
      "l2s 678 <t> amanda curtis , ceo of fashion company in new york , posted picture of rainbows . </t> <t> `` i had a small moment of awe , '' she said . </t>\n",
      "\n",
      "l2r 678 <t> amanda curtis , ceo of a fashion company in new york , posted a picture of four rainbows to twitter . </t> <t> `` i had a small moment of awe , '' she said . </t>\n",
      "\n",
      "l1s 678 <t> four rainbows stretched across the sky in new york on tuesday . </t> <t> `` i feel like we 're breaking the internet in a really great way , '' one woman says . </t>\n",
      "\n",
      "l1r 678 <t> amanda curtis , ceo of a fashion company in new york , posted a picture of four rainbows to twitter . </t> <t> `` i had a small moment of awe , '' she said . </t>\n",
      "\n",
      "l2s 8195 <t> legislative splis equivalent to introducing a new law for every working day . </t> <t> the so-called crimes include diving into the thames without authority . </t> <t> other antiquated laws remain in force that are simply baffling . </t>\n",
      "\n",
      "l2r 8195 <t> splurge is equivalent to introducing a new law for every working day . </t> <t> include diving into the thames without authority and hogging middle lane . </t> <t> meanwhile other antiquated laws remain in force that are simply baffling . </t>\n",
      "\n",
      "l1s 8195 <t> more than 1,000 crimes have been created by the coalition in the coalition agreement . </t> <t> coalition has pledged to roll back labour 's ` state intrusion ' , promising bonfire of pointless powers . </t> <t> research shows government has invented 22 ways of criminalising public every month . </t>\n",
      "\n",
      "l1r 8195 <t> splurge is equivalent to introducing a new law for every working day . </t> <t> include diving into the thames without authority and hogging middle lane . </t> <t> meanwhile other antiquated laws remain in force that are simply baffling . </t>\n",
      "\n",
      "l2s 7078 <t> launch window opens for 20 days starting on 31 july 2018 . </t> <t> spacecraft will study and study winds of up to 2,500 fahrenheit . </t>\n",
      "\n",
      "l2r 7078 <t> temperatures outside the spacecraft will reach 2,500 degrees fahrenheit . </t> <t> launch window opens for 20 days starting on july 31 , 2018 . </t>\n",
      "\n",
      "l1s 7078 <t> the solar wind and energetic particles as they blast off the surface of the star . </t> <t> the mission will use seven flybys of venus to reduce its distance from the sun . </t> <t> the closest three will be just 3.8 million miles from the surface of the star . </t>\n",
      "\n",
      "l1r 7078 <t> temperatures outside the spacecraft will reach 2,500 degrees fahrenheit . </t> <t> launch window opens for 20 days starting on july 31 , 2018 . </t>\n",
      "\n",
      "l2s 345 <t> paul mccartney to honor ringo starr , yoko ono . </t> <t> rock and roll hall of fame induction ceremony . </t> <t> green day , lou reed , joan jett also honored . </t>\n",
      "\n",
      "l2r 345 <t> paul mccartney honors ringo starr at rock and roll hall of fame induction ceremony . </t> <t> green day , lou reed , joan jett & the blackhearts also honored . </t>\n",
      "\n",
      "l1s 345 <t> `` just sad john and george are n't here , '' yoko ono says . </t> <t> guitarist george harrison : `` i 've finally been invited and i love it '' </t> <t> stevie wonder : `` i 've finally been invited and i love it '' </t>\n",
      "\n",
      "l1r 345 <t> paul mccartney honors ringo starr at rock and roll hall of fame induction ceremony . </t> <t> green day , lou reed , joan jett & the blackhearts also honored . </t>\n",
      "\n",
      "l2s 6968 <t> jihadi attempting to launch attack on kurdish peshmerga forces near kirkuk . </t>\n",
      "\n",
      "l2r 6968 <t> jihadi tried to launch attack on kurdish peshmerga forces near kirkuk , iraq . </t>\n",
      "\n",
      "l1s 6968 <t> car catapulted 100ft into the air after apparently hitting a road-side bomb . </t> <t> it catapulted back into the air just as it begins to fall back to earth . </t> <t> the car detonates like a firework , either due to the explosives or fuel tank igniting . </t>\n",
      "\n",
      "l1r 6968 <t> jihadi tried to launch attack on kurdish peshmerga forces near kirkuk , iraq . </t>\n",
      "\n"
     ]
    }
   ],
   "source": [
    "ids = [9156, 11486, 5108, 360, 532, 678, 8195, 7078, 345, 6968]\n",
    "for idx in map(str, ids):\n",
    "    with open(model1s) as m1s, open(model1r) as m1r, open(model2s) as m2s, open(model2r) as m2r:\n",
    "        for l1s, l1r, l2s, l2r in zip(m1s, m1r, m2s, m2r):\n",
    "            if l1s.startswith(idx+' '):\n",
    "                print('l1s', l1s)\n",
    "            if l1r.startswith(idx+' '):\n",
    "                print('l1r', l1r)\n",
    "            if l2s.startswith(idx+' '):\n",
    "                print('l2s', l2s)\n",
    "            if l2r.startswith(idx+' '):\n",
    "                print('l2r', l2r)"
   ]
  },
  {
   "cell_type": "code",
   "execution_count": null,
   "metadata": {},
   "outputs": [],
   "source": [
    "sumfilter = \"~/data/test_sumfilter.txt\""
   ]
  },
  {
   "cell_type": "code",
   "execution_count": null,
   "metadata": {},
   "outputs": [],
   "source": [
    "ids = [9156, 11486, 5108, 360, 532, 678, 8195, 7078, 345, 6968]\n",
    "for idx in map(str, ids):\n",
    "    with open(sumfilter) as sf:"
   ]
  },
  {
   "cell_type": "code",
   "execution_count": 56,
   "metadata": {},
   "outputs": [
    {
     "name": "stdout",
     "output_type": "stream",
     "text": [
      "separate_multiprocess.py\n",
      "test_sumfilter.txt\n",
      "train_sumfilter.txt\n",
      "val_sumfilter.txt\n"
     ]
    }
   ],
   "source": [
    "%%bash\n",
    "ls ~/data"
   ]
  },
  {
   "cell_type": "code",
   "execution_count": 57,
   "metadata": {},
   "outputs": [
    {
     "name": "stdout",
     "output_type": "stream",
     "text": [
      "l2s 8284 <t> the trackdose app was developed by california-based firm esooka . </t> <t> it uses a mathematical model developed by scientists and meteorologists . </t> <t> it uses a mathematical model to calculate radiation levels in the us . </t>\n",
      "\n",
      "l2r 8284 <t> the trackyourdose app was developed by germany-based firm esooka . </t> <t> it uses a mathematical model developed by scientists and meteorologists . </t> <t> the # 1.49 -lrb- $ 1.99 -rrb- ios app keeps a record of a user 's ` personal radiation ' </t> <t> this includes exposure from medical examinations , changes in a person 's location and flights . </t>\n",
      "\n",
      "l1s 8284 <t> the trackyourdose app was developed by germany-based firm esooka . </t> <t> it uses a mathematical model developed by scientists and meteorologists . </t> <t> the # 1.49 -lrb- $ 1.99 -rrb- ios app keeps a record of a user 's personal radiation . </t> <t> exposure from changes in a person 's location and flights to the trackyourdose app . </t>\n",
      "\n",
      "l1r 8284 <t> the trackyourdose app was developed by germany-based firm esooka . </t> <t> it uses a mathematical model developed by scientists and meteorologists . </t> <t> the # 1.49 -lrb- $ 1.99 -rrb- ios app keeps a record of a user 's ` personal radiation ' </t> <t> this includes exposure from medical examinations , changes in a person 's location and flights . </t>\n",
      "\n",
      "l2s 10040 <t> people were less likely to think about when it chewed gum . </t> <t> in a study people were less likely to ` hear ' it when chewing gum . </t> <t> this could stop other intrusive thoughts interfering with their own speech . </t>\n",
      "\n",
      "l2r 10040 <t> reading scientists say chewing gum helps you forget a song . </t> <t> in a study people were less likely to think about it when chewing . </t> <t> and they were a third less likely to ` hear ' it when chewing gum . </t> <t> results suggests same technique could stop other intrusive thoughts . </t>\n",
      "\n",
      "l1s 10040 <t> reading scientists say chewing gum helps you forget a song in a study . </t> <t> people were less likely to think about it when chewing -lrb- stock -rrb- . </t> <t> they were a third less likely to ` hear ' it when it was . </t> <t> when chewing gum , the results suggests same technique could stop other intrusive thoughts . </t>\n",
      "\n",
      "l1r 10040 <t> reading scientists say chewing gum helps you forget a song . </t> <t> in a study people were less likely to think about it when chewing . </t> <t> and they were a third less likely to ` hear ' it when chewing gum . </t> <t> results suggests same technique could stop other intrusive thoughts . </t>\n",
      "\n",
      "l1s 7897 <t> joshua vaughan , 17 , was last seen standing on a platform at chapeltown , sheffield . </t> <t> his mother had sent his mother a message on facebook saying ` he was going to end it ' </t> <t> but by the time he got to the station , his body had already been found on the line . </t> <t> for confidential support call the samaritans in the uk on 08457 90 90 90 , visit a local samaritans branch or click here for details . </t>\n",
      "\n",
      "l1r 7897 <t> joshua vaughan ` stepped in front of a train ' in sheffield in january . </t> <t> joshua , 17 , had suffered issues with ` on-off ' girlfriend , inquest heard . </t> <t> his girlfriend messaged his mother that ` he was going to end it ' </t> <t> for confidential support call the samaritans in the uk on 08457 90 90 90 , visit a local samaritans branch or click here for details . </t>\n",
      "\n",
      "l2s 7897 <t> joshua vaughan , 17 , was last seen standing on chapeltown , sheffield , on january 7 . </t> <t> his mother had sent his mother a message saying he was ` going to end it ' </t>\n",
      "\n",
      "l2r 7897 <t> joshua vaughan ` stepped in front of a train ' in sheffield in january . </t> <t> joshua , 17 , had suffered issues with ` on-off ' girlfriend , inquest heard . </t> <t> his girlfriend messaged his mother that ` he was going to end it ' </t> <t> for confidential support call the samaritans in the uk on 08457 90 90 90 , visit a local samaritans branch or click here for details . </t>\n",
      "\n",
      "l2s 242 <t> `` this is a victory for the sterling family recovering in the recovering , '' v. stiviano 's lawyer says . </t>\n",
      "\n",
      "l2r 242 <t> v. stiviano must pay back $ 2.6 million in gifts from donald sterling . </t> <t> sterling 's wife claimed the ex-clippers used the couple 's money for the gifts . </t> <t> the items included a ferrari , two bentleys and a range rover . </t>\n",
      "\n",
      "l1s 242 <t> v. stiviano says shelly sterling used the couple 's money to buy a ferrari , two bentleys and a range rover . </t> <t> `` this is a victory for the sterling family in recovering the $ 2,630,000 that lavished on a conniving mistress , '' her lawyer says . </t>\n",
      "\n",
      "l1r 242 <t> v. stiviano must pay back $ 2.6 million in gifts from donald sterling . </t> <t> sterling 's wife claimed the ex-clippers used the couple 's money for the gifts . </t> <t> the items included a ferrari , two bentleys and a range rover . </t>\n",
      "\n",
      "l1s 6278 <t> june shannon and her estranged husband mike ` mama june ' thompson have filed a missing persons report after his older brother disappeared three days ago . </t> <t> billy thompson was last seen on saturday at sugar bear 's home in mcintyre , georgia , where his daughter jessica was preparing to go to prom . </t> <t> the family have filed a missing persons report with the local police department and are especially worried because billy has been struggling to find work and recently suffered a difficult split from the mother of his children . </t>\n",
      "\n",
      "l1r 6278 <t> ` mama ' june shannon and mike ` sugar bear ' thompson have filed a missing persons report after his older brother disappeared three days ago . </t> <t> billy thompson was last seen on saturday at sugar bear 's home in mcintyre , georgia . </t> <t> the family are especially worried because billy has been struggling to find work and recently suffered a difficult split from the mother of his children . </t> <t> since april 11 he has n't been seen and he is n't returning phone calls or texts . </t>\n",
      "\n",
      "l2s 6278 <t> billy thompson was last seen at saturday at sugar bear 's home in mcintyre , georgia . </t> <t> since then he has n't been seen and he is n't returning calls or texts . </t>\n",
      "\n",
      "l2r 6278 <t> ` mama ' june shannon and mike ` sugar bear ' thompson have filed a missing persons report after his older brother disappeared three days ago . </t> <t> billy thompson was last seen on saturday at sugar bear 's home in mcintyre , georgia . </t> <t> the family are especially worried because billy has been struggling to find work and recently suffered a difficult split from the mother of his children . </t> <t> since april 11 he has n't been seen and he is n't returning phone calls or texts . </t>\n",
      "\n"
     ]
    }
   ],
   "source": [
    "ids = [8284, 10040, 7897, 242, 6278]\n",
    "for idx in map(str, ids):\n",
    "    with open(model1s) as m1s, open(model1r) as m1r, open(model2s) as m2s, open(model2r) as m2r:\n",
    "        for l1s, l1r, l2s, l2r in zip(m1s, m1r, m2s, m2r):\n",
    "            if l1s.startswith(idx+' '):\n",
    "                print('l1s', l1s)\n",
    "            if l1r.startswith(idx+' '):\n",
    "                print('l1r', l1r)\n",
    "            if l2s.startswith(idx+' '):\n",
    "                print('l2s', l2s)\n",
    "            if l2r.startswith(idx+' '):\n",
    "                print('l2r', l2r)"
   ]
  }
 ],
 "metadata": {
  "kernelspec": {
   "display_name": "Python 3",
   "language": "python",
   "name": "python3"
  },
  "language_info": {
   "codemirror_mode": {
    "name": "ipython",
    "version": 3
   },
   "file_extension": ".py",
   "mimetype": "text/x-python",
   "name": "python",
   "nbconvert_exporter": "python",
   "pygments_lexer": "ipython3",
   "version": "3.6.5"
  }
 },
 "nbformat": 4,
 "nbformat_minor": 4
}
